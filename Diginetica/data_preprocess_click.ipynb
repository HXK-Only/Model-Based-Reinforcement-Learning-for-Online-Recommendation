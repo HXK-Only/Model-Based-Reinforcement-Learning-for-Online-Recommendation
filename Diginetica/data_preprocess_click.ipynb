{
 "cells": [
  {
   "cell_type": "code",
   "execution_count": 1,
   "metadata": {},
   "outputs": [],
   "source": [
    "import time\n",
    "import csv\n",
    "import pickle\n",
    "import pandas as pd\n",
    "import numpy as np\n",
    "import operator\n",
    "import os"
   ]
  },
  {
   "cell_type": "code",
   "execution_count": 2,
   "metadata": {},
   "outputs": [
    {
     "name": "stdout",
     "output_type": "stream",
     "text": [
      "Total purchase 18025\n"
     ]
    },
    {
     "name": "stderr",
     "output_type": "stream",
     "text": [
      "/home/xb6cf/anaconda3/lib/python3.6/site-packages/IPython/core/interactiveshell.py:2785: DtypeWarning: Columns (6) have mixed types. Specify dtype option on import or set low_memory=False.\n",
      "  interactivity=interactivity, compiler=compiler, result=result)\n"
     ]
    },
    {
     "name": "stdout",
     "output_type": "stream",
     "text": [
      "Total queries 923127\n",
      "Total clicks 1127764\n"
     ]
    }
   ],
   "source": [
    "#Only select session which has final purchase\n",
    "purchase = pd.read_csv('../diginetica/train-purchases.csv', sep=';')[['sessionId', 'itemId']]\n",
    "print('Total purchase', len(purchase))\n",
    "queries = pd.read_csv('../diginetica/train-queries.csv', sep=';')[['queryId', 'sessionId', 'items']]\n",
    "print('Total queries', len(queries))\n",
    "clicks = pd.read_csv('../diginetica/train-clicks.csv', sep=';')[['queryId', 'itemId']]\n",
    "print('Total clicks', len(clicks))"
   ]
  },
  {
   "cell_type": "code",
   "execution_count": 3,
   "metadata": {},
   "outputs": [],
   "source": [
    "#Query-Session Dictionary\n",
    "class QS_Dictionary(object):\n",
    "    def __init__(self):\n",
    "        self.query_dic={}\n",
    "        \n",
    "    def add_session(self, query, session_id):\n",
    "        self.query_dic[query]=session_id\n",
    "            \n",
    "    def get_Dic(self):\n",
    "        return self.query_dic\n",
    "    \n",
    "    def del_key(self,session_id):\n",
    "        for key in self.query_dic: \n",
    "            if self.query_dic[key] == session_id:\n",
    "                self.query_dic.pop(key)\n",
    "    \n",
    "    def length(self):\n",
    "        return len(self.query_dic)"
   ]
  },
  {
   "cell_type": "code",
   "execution_count": 4,
   "metadata": {},
   "outputs": [],
   "source": [
    "#Session-click dictionary\n",
    "class SC_Dictionary(object):\n",
    "    def __init__(self):\n",
    "        self.session_dic={}\n",
    "        \n",
    "    def add_click(self, query, click, qs_dictionary):\n",
    "        if query in qs_dictionary.get_Dic():\n",
    "            session_id = qs_dictionary.get_Dic()[query]\n",
    "            if session_id not in self.session_dic:\n",
    "                self.session_dic[session_id] = [click]\n",
    "            else:\n",
    "                self.session_dic[session_id].append(click)\n",
    "                \n",
    "    def get_Dic(self):\n",
    "        return self.session_dic\n",
    "    \n",
    "    def del_key(self,key):\n",
    "        self.session_dic.pop(key)\n",
    "    \n",
    "    def length(self):\n",
    "        return len(self.session_dic)"
   ]
  },
  {
   "cell_type": "code",
   "execution_count": 5,
   "metadata": {},
   "outputs": [],
   "source": [
    "#Session-Purchase Dictionary\n",
    "class SP_Dictionary(object):\n",
    "    def __init__(self):\n",
    "        self.session_dic={}\n",
    "        self.multiple=False\n",
    "        self.unique = 0\n",
    "        \n",
    "    def add_item(self, session_id, item_purchase):\n",
    "        if session_id not in self.session_dic:\n",
    "            self.session_dic[session_id]=[item_purchase]\n",
    "            self.unique+=1\n",
    "        else:\n",
    "            self.session_dic[session_id].append(item_purchase)\n",
    "            self.multiple=True\n",
    "        \n",
    "    def add_item_unique(self, session_id, item_purchase):\n",
    "        if session_id not in self.session_dic:\n",
    "            self.session_dic[session_id]=[item_purchase]\n",
    "            self.unique+=1\n",
    "        else: #Remove keys with multiple purchases\n",
    "            self.session_dic.pop(session_id)\n",
    "            self.unique=self.unique-1\n",
    "            \n",
    "    def If_multiple(self):\n",
    "        if self.multiple:\n",
    "            print(\"Number of sessions with only one purchase is:\")\n",
    "            print(self.unique)\n",
    "        return self.multiple\n",
    "    \n",
    "    def get_Dic(self):\n",
    "        return self.session_dic\n",
    "    \n",
    "    def del_key(self,key):\n",
    "        self.session_dic.pop(key)\n",
    "    \n",
    "    def length(self):\n",
    "        return len(self.session_dic)"
   ]
  },
  {
   "cell_type": "code",
   "execution_count": 6,
   "metadata": {},
   "outputs": [],
   "source": [
    "query_session = QS_Dictionary()\n",
    "session_click = SC_Dictionary()\n",
    "session_purchase = SP_Dictionary()\n",
    "\n",
    "for sp in purchase.values:\n",
    "    session_purchase.add_item(sp[0], sp[1])\n",
    "    #session_purchase.add_item_unique(sp[0], sp[1])\n",
    "for qsr in queries.values:\n",
    "    query_session.add_session(qsr[0], qsr[1])\n",
    "for qc in clicks.values:\n",
    "    session_click.add_click(qc[0], qc[1], query_session)\n",
    "    \n",
    "#Filter sessions by clicks\n",
    "filter_key_click = []\n",
    "#The session has less than 2 clicks        \n",
    "for key in session_click.get_Dic():\n",
    "    if len(session_click.get_Dic()[key]) < 2:\n",
    "        filter_key_click.append(key)\n",
    "for key in filter_key_click:\n",
    "    session_click.del_key(key)"
   ]
  },
  {
   "cell_type": "code",
   "execution_count": 7,
   "metadata": {},
   "outputs": [],
   "source": [
    "class Dictionary(object):\n",
    "    def __init__(self):\n",
    "        self.item_dic={}\n",
    "        #Item number start from 1; if 0, them it means no item selected\n",
    "        self.current = 1\n",
    "        \n",
    "    def add_item(self, item_id):\n",
    "        if item_id not in self.item_dic:\n",
    "            self.item_dic[item_id]=self.current\n",
    "            self.current += 1\n",
    "            \n",
    "    def getItem(self):\n",
    "        return self.item_dic    \n",
    "    \n",
    "    def length(self):\n",
    "        return len(self.item_dic)"
   ]
  },
  {
   "cell_type": "code",
   "execution_count": 8,
   "metadata": {},
   "outputs": [],
   "source": [
    "##Extract session recommend and clicks; relation between views and clicks?\n",
    "class Session(object):\n",
    "    \"\"\"Instance that represent a sample of train/dev/test corpus.\"\"\"\n",
    "\n",
    "    def __init__(self, session_id):\n",
    "        self.session_id = session_id\n",
    "        self.clicks = []  \n",
    "        self.purchase = []\n",
    "                \n",
    "    def Add_click(self, session_id, session_click, item_dic):\n",
    "        assert session_id == self.session_id\n",
    "        clicks=session_click[session_id]\n",
    "        #Update the dictionary\n",
    "        for item in clicks:\n",
    "            item_dic.add_item(item)\n",
    "            self.clicks.append(item_dic.getItem()[item])\n",
    "        \n",
    "    def Add_purchase(self, session_id, session_purchase, item_dic):\n",
    "        assert session_id == self.session_id\n",
    "        if session_id in session_purchase:\n",
    "            purchases=session_purchase[session_id]\n",
    "            #Update the dictionary\n",
    "            for item in purchases:\n",
    "                item_dic.add_item(item)\n",
    "                self.purchase.append(item_dic.getItem()[item])\n",
    "        else:\n",
    "            #No item purchased, denoted as -1\n",
    "            self.purchase=[-1]\n",
    "        \n",
    "    def write_session_clicks(self, file):\n",
    "        for cli in range(len(self.clicks)):\n",
    "            file.write(str(self.clicks[cli]) + ' ')\n",
    "        file.write('0\\n')\n",
    "        \n",
    "    def write_session_purchases(self, file):\n",
    "        for pur in range(len(self.purchase)):\n",
    "            file.write(str(self.purchase[pur]) + ' ')\n",
    "        file.write('\\n')"
   ]
  },
  {
   "cell_type": "code",
   "execution_count": 9,
   "metadata": {},
   "outputs": [],
   "source": [
    "def Sample(session_click, session_purchase, item_dic):\n",
    "    session_list = []\n",
    "    saveclick=open(os.path.join('../','dig_seq_click_rl.txt'),'a+')\n",
    "    savepurchase=open(os.path.join('../','dig_seq_purchase_rl.txt'),'a+')\n",
    "    for session_id in session_click.get_Dic():\n",
    "        sess = Session(session_id)\n",
    "        sess.Add_click(session_id, session_click.get_Dic(), item_dic)\n",
    "        sess.Add_purchase(session_id, session_purchase.get_Dic(), item_dic)\n",
    "        sess.write_session_clicks(saveclick)\n",
    "        sess.write_session_purchases(savepurchase)\n",
    "        session_list.append(sess)\n",
    "    return session_list"
   ]
  },
  {
   "cell_type": "code",
   "execution_count": 10,
   "metadata": {},
   "outputs": [],
   "source": [
    "item_dic=Dictionary()\n",
    "session_list = Sample(session_click, session_purchase, item_dic)"
   ]
  },
  {
   "cell_type": "code",
   "execution_count": 17,
   "metadata": {},
   "outputs": [
    {
     "data": {
      "text/plain": [
       "194771"
      ]
     },
     "execution_count": 17,
     "metadata": {},
     "output_type": "execute_result"
    }
   ],
   "source": [
    "len(session_list)"
   ]
  },
  {
   "cell_type": "code",
   "execution_count": 24,
   "metadata": {},
   "outputs": [
    {
     "data": {
      "text/plain": [
       "12630"
      ]
     },
     "execution_count": 24,
     "metadata": {},
     "output_type": "execute_result"
    }
   ],
   "source": [
    "session_purchase.length()"
   ]
  },
  {
   "cell_type": "code",
   "execution_count": 27,
   "metadata": {},
   "outputs": [
    {
     "data": {
      "text/plain": [
       "72237"
      ]
     },
     "execution_count": 27,
     "metadata": {},
     "output_type": "execute_result"
    }
   ],
   "source": [
    "item_dic.length()"
   ]
  }
 ],
 "metadata": {
  "kernelspec": {
   "display_name": "Python 3",
   "language": "python",
   "name": "python3"
  },
  "language_info": {
   "codemirror_mode": {
    "name": "ipython",
    "version": 3
   },
   "file_extension": ".py",
   "mimetype": "text/x-python",
   "name": "python",
   "nbconvert_exporter": "python",
   "pygments_lexer": "ipython3",
   "version": "3.6.5"
  }
 },
 "nbformat": 4,
 "nbformat_minor": 2
}
